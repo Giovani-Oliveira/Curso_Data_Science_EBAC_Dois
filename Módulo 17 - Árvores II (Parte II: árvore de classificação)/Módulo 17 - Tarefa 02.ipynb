{
 "cells": [
  {
   "cell_type": "markdown",
   "metadata": {},
   "source": [
    "# Árvores II - Tarefa 2"
   ]
  },
  {
   "cell_type": "markdown",
   "metadata": {},
   "source": [
    "### 1. Carregar as bases\n",
    "\n",
    "Vamos carregar as bases lidas na tarefa passada. Se você salvou essas bases em arquivo texto, basta fazer a leitura com o comando ```pd.read_csv``` das seguintes bases:\n",
    "\n",
    "- X_train\n",
    "- Y_train\n",
    "- X_test\n",
    "- Y_test\n",
    "\n",
    "Não se esqueça de considerar a leitura dos índices dos arquivos no ```read_csv()```!"
   ]
  },
  {
   "cell_type": "code",
   "execution_count": 13,
   "metadata": {},
   "outputs": [],
   "source": [
    "import pandas as pd\n",
    "import seaborn as sns\n",
    "import matplotlib.pyplot as plt\n",
    "import numpy as np\n",
    "import graphviz\n",
    "\n",
    "from sklearn.tree import DecisionTreeClassifier\n",
    "from sklearn.metrics import accuracy_score\n",
    "from sklearn.model_selection import train_test_split\n",
    "from sklearn.metrics import plot_confusion_matrix\n",
    "from sklearn.tree import export_graphviz"
   ]
  },
  {
   "cell_type": "code",
   "execution_count": 47,
   "metadata": {},
   "outputs": [],
   "source": [
    "import warnings\n",
    "\n",
    "warnings.simplefilter(action='ignore', category=FutureWarning)"
   ]
  },
  {
   "cell_type": "code",
   "execution_count": 10,
   "metadata": {},
   "outputs": [
    {
     "data": {
      "text/html": [
       "<div>\n",
       "<style scoped>\n",
       "    .dataframe tbody tr th:only-of-type {\n",
       "        vertical-align: middle;\n",
       "    }\n",
       "\n",
       "    .dataframe tbody tr th {\n",
       "        vertical-align: top;\n",
       "    }\n",
       "\n",
       "    .dataframe thead th {\n",
       "        text-align: right;\n",
       "    }\n",
       "</style>\n",
       "<table border=\"1\" class=\"dataframe\">\n",
       "  <thead>\n",
       "    <tr style=\"text-align: right;\">\n",
       "      <th></th>\n",
       "      <th></th>\n",
       "      <th>1 tBodyAcc-mean()-X</th>\n",
       "      <th>2 tBodyAcc-mean()-Y</th>\n",
       "      <th>3 tBodyAcc-mean()-Z</th>\n",
       "      <th>4 tBodyAcc-std()-X</th>\n",
       "      <th>5 tBodyAcc-std()-Y</th>\n",
       "      <th>6 tBodyAcc-std()-Z</th>\n",
       "      <th>7 tBodyAcc-mad()-X</th>\n",
       "      <th>8 tBodyAcc-mad()-Y</th>\n",
       "      <th>9 tBodyAcc-mad()-Z</th>\n",
       "      <th>10 tBodyAcc-max()-X</th>\n",
       "      <th>...</th>\n",
       "      <th>552 fBodyBodyGyroJerkMag-meanFreq()</th>\n",
       "      <th>553 fBodyBodyGyroJerkMag-skewness()</th>\n",
       "      <th>554 fBodyBodyGyroJerkMag-kurtosis()</th>\n",
       "      <th>555 angle(tBodyAccMean,gravity)</th>\n",
       "      <th>556 angle(tBodyAccJerkMean),gravityMean)</th>\n",
       "      <th>557 angle(tBodyGyroMean,gravityMean)</th>\n",
       "      <th>558 angle(tBodyGyroJerkMean,gravityMean)</th>\n",
       "      <th>559 angle(X,gravityMean)</th>\n",
       "      <th>560 angle(Y,gravityMean)</th>\n",
       "      <th>561 angle(Z,gravityMean)</th>\n",
       "    </tr>\n",
       "    <tr>\n",
       "      <th></th>\n",
       "      <th>Subject</th>\n",
       "      <th></th>\n",
       "      <th></th>\n",
       "      <th></th>\n",
       "      <th></th>\n",
       "      <th></th>\n",
       "      <th></th>\n",
       "      <th></th>\n",
       "      <th></th>\n",
       "      <th></th>\n",
       "      <th></th>\n",
       "      <th></th>\n",
       "      <th></th>\n",
       "      <th></th>\n",
       "      <th></th>\n",
       "      <th></th>\n",
       "      <th></th>\n",
       "      <th></th>\n",
       "      <th></th>\n",
       "      <th></th>\n",
       "      <th></th>\n",
       "      <th></th>\n",
       "    </tr>\n",
       "  </thead>\n",
       "  <tbody>\n",
       "    <tr>\n",
       "      <th>0</th>\n",
       "      <th>1</th>\n",
       "      <td>0.288585</td>\n",
       "      <td>-0.020294</td>\n",
       "      <td>-0.132905</td>\n",
       "      <td>-0.995279</td>\n",
       "      <td>-0.983111</td>\n",
       "      <td>-0.913526</td>\n",
       "      <td>-0.995112</td>\n",
       "      <td>-0.983185</td>\n",
       "      <td>-0.923527</td>\n",
       "      <td>-0.934724</td>\n",
       "      <td>...</td>\n",
       "      <td>-0.074323</td>\n",
       "      <td>-0.298676</td>\n",
       "      <td>-0.710304</td>\n",
       "      <td>-0.112754</td>\n",
       "      <td>0.0304</td>\n",
       "      <td>-0.464761</td>\n",
       "      <td>-0.018446</td>\n",
       "      <td>-0.841247</td>\n",
       "      <td>0.179941</td>\n",
       "      <td>-0.058627</td>\n",
       "    </tr>\n",
       "  </tbody>\n",
       "</table>\n",
       "<p>1 rows × 561 columns</p>\n",
       "</div>"
      ],
      "text/plain": [
       "           1 tBodyAcc-mean()-X  2 tBodyAcc-mean()-Y  3 tBodyAcc-mean()-Z  \\\n",
       "  Subject                                                                  \n",
       "0 1                   0.288585            -0.020294            -0.132905   \n",
       "\n",
       "           4 tBodyAcc-std()-X  5 tBodyAcc-std()-Y  6 tBodyAcc-std()-Z  \\\n",
       "  Subject                                                               \n",
       "0 1                 -0.995279           -0.983111           -0.913526   \n",
       "\n",
       "           7 tBodyAcc-mad()-X  8 tBodyAcc-mad()-Y  9 tBodyAcc-mad()-Z  \\\n",
       "  Subject                                                               \n",
       "0 1                 -0.995112           -0.983185           -0.923527   \n",
       "\n",
       "           10 tBodyAcc-max()-X  ...  552 fBodyBodyGyroJerkMag-meanFreq()  \\\n",
       "  Subject                       ...                                        \n",
       "0 1                  -0.934724  ...                            -0.074323   \n",
       "\n",
       "           553 fBodyBodyGyroJerkMag-skewness()  \\\n",
       "  Subject                                        \n",
       "0 1                                  -0.298676   \n",
       "\n",
       "           554 fBodyBodyGyroJerkMag-kurtosis()  \\\n",
       "  Subject                                        \n",
       "0 1                                  -0.710304   \n",
       "\n",
       "           555 angle(tBodyAccMean,gravity)  \\\n",
       "  Subject                                    \n",
       "0 1                              -0.112754   \n",
       "\n",
       "           556 angle(tBodyAccJerkMean),gravityMean)  \\\n",
       "  Subject                                             \n",
       "0 1                                          0.0304   \n",
       "\n",
       "           557 angle(tBodyGyroMean,gravityMean)  \\\n",
       "  Subject                                         \n",
       "0 1                                   -0.464761   \n",
       "\n",
       "           558 angle(tBodyGyroJerkMean,gravityMean)  559 angle(X,gravityMean)  \\\n",
       "  Subject                                                                       \n",
       "0 1                                       -0.018446                 -0.841247   \n",
       "\n",
       "           560 angle(Y,gravityMean)  561 angle(Z,gravityMean)  \n",
       "  Subject                                                      \n",
       "0 1                        0.179941                 -0.058627  \n",
       "\n",
       "[1 rows x 561 columns]"
      ]
     },
     "execution_count": 10,
     "metadata": {},
     "output_type": "execute_result"
    }
   ],
   "source": [
    "X_ = pd.read_csv('X_train_edit.csv', index_col = [0,1])\n",
    "X_.head(1)"
   ]
  },
  {
   "cell_type": "code",
   "execution_count": 8,
   "metadata": {},
   "outputs": [
    {
     "data": {
      "text/html": [
       "<div>\n",
       "<style scoped>\n",
       "    .dataframe tbody tr th:only-of-type {\n",
       "        vertical-align: middle;\n",
       "    }\n",
       "\n",
       "    .dataframe tbody tr th {\n",
       "        vertical-align: top;\n",
       "    }\n",
       "\n",
       "    .dataframe thead th {\n",
       "        text-align: right;\n",
       "    }\n",
       "</style>\n",
       "<table border=\"1\" class=\"dataframe\">\n",
       "  <thead>\n",
       "    <tr style=\"text-align: right;\">\n",
       "      <th></th>\n",
       "      <th></th>\n",
       "      <th>1 tBodyAcc-mean()-X</th>\n",
       "      <th>2 tBodyAcc-mean()-Y</th>\n",
       "      <th>3 tBodyAcc-mean()-Z</th>\n",
       "      <th>4 tBodyAcc-std()-X</th>\n",
       "      <th>5 tBodyAcc-std()-Y</th>\n",
       "      <th>6 tBodyAcc-std()-Z</th>\n",
       "      <th>7 tBodyAcc-mad()-X</th>\n",
       "      <th>8 tBodyAcc-mad()-Y</th>\n",
       "      <th>9 tBodyAcc-mad()-Z</th>\n",
       "      <th>10 tBodyAcc-max()-X</th>\n",
       "      <th>...</th>\n",
       "      <th>552 fBodyBodyGyroJerkMag-meanFreq()</th>\n",
       "      <th>553 fBodyBodyGyroJerkMag-skewness()</th>\n",
       "      <th>554 fBodyBodyGyroJerkMag-kurtosis()</th>\n",
       "      <th>555 angle(tBodyAccMean,gravity)</th>\n",
       "      <th>556 angle(tBodyAccJerkMean),gravityMean)</th>\n",
       "      <th>557 angle(tBodyGyroMean,gravityMean)</th>\n",
       "      <th>558 angle(tBodyGyroJerkMean,gravityMean)</th>\n",
       "      <th>559 angle(X,gravityMean)</th>\n",
       "      <th>560 angle(Y,gravityMean)</th>\n",
       "      <th>561 angle(Z,gravityMean)</th>\n",
       "    </tr>\n",
       "    <tr>\n",
       "      <th></th>\n",
       "      <th>Subject</th>\n",
       "      <th></th>\n",
       "      <th></th>\n",
       "      <th></th>\n",
       "      <th></th>\n",
       "      <th></th>\n",
       "      <th></th>\n",
       "      <th></th>\n",
       "      <th></th>\n",
       "      <th></th>\n",
       "      <th></th>\n",
       "      <th></th>\n",
       "      <th></th>\n",
       "      <th></th>\n",
       "      <th></th>\n",
       "      <th></th>\n",
       "      <th></th>\n",
       "      <th></th>\n",
       "      <th></th>\n",
       "      <th></th>\n",
       "      <th></th>\n",
       "      <th></th>\n",
       "    </tr>\n",
       "  </thead>\n",
       "  <tbody>\n",
       "    <tr>\n",
       "      <th>0</th>\n",
       "      <th>2</th>\n",
       "      <td>0.257178</td>\n",
       "      <td>-0.023285</td>\n",
       "      <td>-0.014654</td>\n",
       "      <td>-0.938404</td>\n",
       "      <td>-0.920091</td>\n",
       "      <td>-0.667683</td>\n",
       "      <td>-0.952501</td>\n",
       "      <td>-0.925249</td>\n",
       "      <td>-0.674302</td>\n",
       "      <td>-0.894088</td>\n",
       "      <td>...</td>\n",
       "      <td>0.071645</td>\n",
       "      <td>-0.33037</td>\n",
       "      <td>-0.705974</td>\n",
       "      <td>0.006462</td>\n",
       "      <td>0.16292</td>\n",
       "      <td>-0.825886</td>\n",
       "      <td>0.271151</td>\n",
       "      <td>-0.720009</td>\n",
       "      <td>0.276801</td>\n",
       "      <td>-0.057978</td>\n",
       "    </tr>\n",
       "  </tbody>\n",
       "</table>\n",
       "<p>1 rows × 561 columns</p>\n",
       "</div>"
      ],
      "text/plain": [
       "           1 tBodyAcc-mean()-X  2 tBodyAcc-mean()-Y  3 tBodyAcc-mean()-Z  \\\n",
       "  Subject                                                                  \n",
       "0 2                   0.257178            -0.023285            -0.014654   \n",
       "\n",
       "           4 tBodyAcc-std()-X  5 tBodyAcc-std()-Y  6 tBodyAcc-std()-Z  \\\n",
       "  Subject                                                               \n",
       "0 2                 -0.938404           -0.920091           -0.667683   \n",
       "\n",
       "           7 tBodyAcc-mad()-X  8 tBodyAcc-mad()-Y  9 tBodyAcc-mad()-Z  \\\n",
       "  Subject                                                               \n",
       "0 2                 -0.952501           -0.925249           -0.674302   \n",
       "\n",
       "           10 tBodyAcc-max()-X  ...  552 fBodyBodyGyroJerkMag-meanFreq()  \\\n",
       "  Subject                       ...                                        \n",
       "0 2                  -0.894088  ...                             0.071645   \n",
       "\n",
       "           553 fBodyBodyGyroJerkMag-skewness()  \\\n",
       "  Subject                                        \n",
       "0 2                                   -0.33037   \n",
       "\n",
       "           554 fBodyBodyGyroJerkMag-kurtosis()  \\\n",
       "  Subject                                        \n",
       "0 2                                  -0.705974   \n",
       "\n",
       "           555 angle(tBodyAccMean,gravity)  \\\n",
       "  Subject                                    \n",
       "0 2                               0.006462   \n",
       "\n",
       "           556 angle(tBodyAccJerkMean),gravityMean)  \\\n",
       "  Subject                                             \n",
       "0 2                                         0.16292   \n",
       "\n",
       "           557 angle(tBodyGyroMean,gravityMean)  \\\n",
       "  Subject                                         \n",
       "0 2                                   -0.825886   \n",
       "\n",
       "           558 angle(tBodyGyroJerkMean,gravityMean)  559 angle(X,gravityMean)  \\\n",
       "  Subject                                                                       \n",
       "0 2                                        0.271151                 -0.720009   \n",
       "\n",
       "           560 angle(Y,gravityMean)  561 angle(Z,gravityMean)  \n",
       "  Subject                                                      \n",
       "0 2                        0.276801                 -0.057978  \n",
       "\n",
       "[1 rows x 561 columns]"
      ]
     },
     "execution_count": 8,
     "metadata": {},
     "output_type": "execute_result"
    }
   ],
   "source": [
    "X_test = pd.read_csv('X_test_edit.csv', index_col = [0,1])\n",
    "X_test.head(1)"
   ]
  },
  {
   "cell_type": "code",
   "execution_count": 11,
   "metadata": {},
   "outputs": [
    {
     "data": {
      "text/html": [
       "<div>\n",
       "<style scoped>\n",
       "    .dataframe tbody tr th:only-of-type {\n",
       "        vertical-align: middle;\n",
       "    }\n",
       "\n",
       "    .dataframe tbody tr th {\n",
       "        vertical-align: top;\n",
       "    }\n",
       "\n",
       "    .dataframe thead th {\n",
       "        text-align: right;\n",
       "    }\n",
       "</style>\n",
       "<table border=\"1\" class=\"dataframe\">\n",
       "  <thead>\n",
       "    <tr style=\"text-align: right;\">\n",
       "      <th></th>\n",
       "      <th></th>\n",
       "      <th>0</th>\n",
       "    </tr>\n",
       "    <tr>\n",
       "      <th></th>\n",
       "      <th>Subject</th>\n",
       "      <th></th>\n",
       "    </tr>\n",
       "  </thead>\n",
       "  <tbody>\n",
       "    <tr>\n",
       "      <th>0</th>\n",
       "      <th>2.0</th>\n",
       "      <td>5</td>\n",
       "    </tr>\n",
       "  </tbody>\n",
       "</table>\n",
       "</div>"
      ],
      "text/plain": [
       "           0\n",
       "  Subject   \n",
       "0 2.0      5"
      ]
     },
     "execution_count": 11,
     "metadata": {},
     "output_type": "execute_result"
    }
   ],
   "source": [
    "y_ = pd.read_csv('y_train_edit.csv', index_col = [0,1])\n",
    "y_.head(1)"
   ]
  },
  {
   "cell_type": "code",
   "execution_count": 9,
   "metadata": {},
   "outputs": [
    {
     "data": {
      "text/html": [
       "<div>\n",
       "<style scoped>\n",
       "    .dataframe tbody tr th:only-of-type {\n",
       "        vertical-align: middle;\n",
       "    }\n",
       "\n",
       "    .dataframe tbody tr th {\n",
       "        vertical-align: top;\n",
       "    }\n",
       "\n",
       "    .dataframe thead th {\n",
       "        text-align: right;\n",
       "    }\n",
       "</style>\n",
       "<table border=\"1\" class=\"dataframe\">\n",
       "  <thead>\n",
       "    <tr style=\"text-align: right;\">\n",
       "      <th></th>\n",
       "      <th></th>\n",
       "      <th>0</th>\n",
       "    </tr>\n",
       "    <tr>\n",
       "      <th></th>\n",
       "      <th>Subject</th>\n",
       "      <th></th>\n",
       "    </tr>\n",
       "  </thead>\n",
       "  <tbody>\n",
       "    <tr>\n",
       "      <th>0</th>\n",
       "      <th>2</th>\n",
       "      <td>5</td>\n",
       "    </tr>\n",
       "  </tbody>\n",
       "</table>\n",
       "</div>"
      ],
      "text/plain": [
       "           0\n",
       "  Subject   \n",
       "0 2        5"
      ]
     },
     "execution_count": 9,
     "metadata": {},
     "output_type": "execute_result"
    }
   ],
   "source": [
    "y_test = pd.read_csv('y_test_edit.csv', index_col = [0,1])\n",
    "y_test.head(1)"
   ]
  },
  {
   "cell_type": "markdown",
   "metadata": {},
   "source": [
    "### 2. Divisão da base em Treino, Validação e Teste\n",
    "\n",
    "A base já se encontra dividida em Treino e Validação. O que vamos fazer então é extrair uma base de Validação da base de Treino.\n",
    "\n",
    "Extraia 25% da base de treino como base de validação."
   ]
  },
  {
   "cell_type": "code",
   "execution_count": 12,
   "metadata": {},
   "outputs": [],
   "source": [
    "X_train, X_valid, y_train, y_valid = train_test_split(X_, y_, test_size=.25, random_state=100)"
   ]
  },
  {
   "cell_type": "markdown",
   "metadata": {},
   "source": [
    "### 3. Melhores 3 variáveis\n",
    "\n",
    "Rode uma árvore com profundidade máxima igual a 4 para prever a atividade humana com todas as variáveis.\n",
    "Observe a importância das variáveis e considere as 3 variáveis com maior importância para os próximos passos.\n",
    "Dica: utilize o atributo ```clf.feature_importances_``` da árvore treinada."
   ]
  },
  {
   "cell_type": "code",
   "execution_count": 15,
   "metadata": {},
   "outputs": [
    {
     "data": {
      "image/svg+xml": [
       "<?xml version=\"1.0\" encoding=\"UTF-8\" standalone=\"no\"?>\r\n",
       "<!DOCTYPE svg PUBLIC \"-//W3C//DTD SVG 1.1//EN\"\r\n",
       " \"http://www.w3.org/Graphics/SVG/1.1/DTD/svg11.dtd\">\r\n",
       "<!-- Generated by graphviz version 2.38.0 (20140413.2041)\r\n",
       " -->\r\n",
       "<!-- Title: Tree Pages: 1 -->\r\n",
       "<svg width=\"1629pt\" height=\"477pt\"\r\n",
       " viewBox=\"0.00 0.00 1628.50 477.00\" xmlns=\"http://www.w3.org/2000/svg\" xmlns:xlink=\"http://www.w3.org/1999/xlink\">\r\n",
       "<g id=\"graph0\" class=\"graph\" transform=\"scale(1 1) rotate(0) translate(4 473)\">\r\n",
       "<title>Tree</title>\r\n",
       "<polygon fill=\"white\" stroke=\"none\" points=\"-4,4 -4,-473 1624.5,-473 1624.5,4 -4,4\"/>\r\n",
       "<!-- 0 -->\r\n",
       "<g id=\"node1\" class=\"node\"><title>0</title>\r\n",
       "<polygon fill=\"#fffeff\" stroke=\"black\" points=\"804,-469 529,-469 529,-401 804,-401 804,-469\"/>\r\n",
       "<text text-anchor=\"middle\" x=\"666.5\" y=\"-453.8\" font-family=\"Helvetica,sans-Serif\" font-size=\"14.00\">53 tGravityAcc&#45;min()&#45;X &lt;= 0.096</text>\r\n",
       "<text text-anchor=\"middle\" x=\"666.5\" y=\"-438.8\" font-family=\"Helvetica,sans-Serif\" font-size=\"14.00\">gini = 0.831</text>\r\n",
       "<text text-anchor=\"middle\" x=\"666.5\" y=\"-423.8\" font-family=\"Helvetica,sans-Serif\" font-size=\"14.00\">samples = 5514</text>\r\n",
       "<text text-anchor=\"middle\" x=\"666.5\" y=\"-408.8\" font-family=\"Helvetica,sans-Serif\" font-size=\"14.00\">value = [928, 807, 725, 968, 1032, 1054]</text>\r\n",
       "</g>\r\n",
       "<!-- 1 -->\r\n",
       "<g id=\"node2\" class=\"node\"><title>1</title>\r\n",
       "<polygon fill=\"#e5399d\" stroke=\"black\" points=\"625,-357.5 440,-357.5 440,-304.5 625,-304.5 625,-357.5\"/>\r\n",
       "<text text-anchor=\"middle\" x=\"532.5\" y=\"-342.3\" font-family=\"Helvetica,sans-Serif\" font-size=\"14.00\">gini = 0.0</text>\r\n",
       "<text text-anchor=\"middle\" x=\"532.5\" y=\"-327.3\" font-family=\"Helvetica,sans-Serif\" font-size=\"14.00\">samples = 1054</text>\r\n",
       "<text text-anchor=\"middle\" x=\"532.5\" y=\"-312.3\" font-family=\"Helvetica,sans-Serif\" font-size=\"14.00\">value = [0, 0, 0, 0, 0, 1054]</text>\r\n",
       "</g>\r\n",
       "<!-- 0&#45;&gt;1 -->\r\n",
       "<g id=\"edge1\" class=\"edge\"><title>0&#45;&gt;1</title>\r\n",
       "<path fill=\"none\" stroke=\"black\" d=\"M622.994,-400.884C607.39,-389.006 589.839,-375.646 574.376,-363.876\"/>\r\n",
       "<polygon fill=\"black\" stroke=\"black\" points=\"576.103,-360.792 566.026,-357.52 571.863,-366.362 576.103,-360.792\"/>\r\n",
       "<text text-anchor=\"middle\" x=\"569.385\" y=\"-378.593\" font-family=\"Helvetica,sans-Serif\" font-size=\"14.00\">True</text>\r\n",
       "</g>\r\n",
       "<!-- 2 -->\r\n",
       "<g id=\"node3\" class=\"node\"><title>2</title>\r\n",
       "<polygon fill=\"#fdfbff\" stroke=\"black\" points=\"957.5,-365 643.5,-365 643.5,-297 957.5,-297 957.5,-365\"/>\r\n",
       "<text text-anchor=\"middle\" x=\"800.5\" y=\"-349.8\" font-family=\"Helvetica,sans-Serif\" font-size=\"14.00\">382 fBodyAccJerk&#45;bandsEnergy()&#45;1,8 &lt;= &#45;0.99</text>\r\n",
       "<text text-anchor=\"middle\" x=\"800.5\" y=\"-334.8\" font-family=\"Helvetica,sans-Serif\" font-size=\"14.00\">gini = 0.797</text>\r\n",
       "<text text-anchor=\"middle\" x=\"800.5\" y=\"-319.8\" font-family=\"Helvetica,sans-Serif\" font-size=\"14.00\">samples = 4460</text>\r\n",
       "<text text-anchor=\"middle\" x=\"800.5\" y=\"-304.8\" font-family=\"Helvetica,sans-Serif\" font-size=\"14.00\">value = [928, 807, 725, 968, 1032, 0]</text>\r\n",
       "</g>\r\n",
       "<!-- 0&#45;&gt;2 -->\r\n",
       "<g id=\"edge2\" class=\"edge\"><title>0&#45;&gt;2</title>\r\n",
       "<path fill=\"none\" stroke=\"black\" d=\"M710.006,-400.884C722.293,-391.531 735.787,-381.259 748.518,-371.568\"/>\r\n",
       "<polygon fill=\"black\" stroke=\"black\" points=\"750.917,-374.141 756.754,-365.299 746.677,-368.571 750.917,-374.141\"/>\r\n",
       "<text text-anchor=\"middle\" x=\"753.395\" y=\"-386.373\" font-family=\"Helvetica,sans-Serif\" font-size=\"14.00\">False</text>\r\n",
       "</g>\r\n",
       "<!-- 3 -->\r\n",
       "<g id=\"node4\" class=\"node\"><title>3</title>\r\n",
       "<polygon fill=\"#f7f3fd\" stroke=\"black\" points=\"761,-261 532,-261 532,-193 761,-193 761,-261\"/>\r\n",
       "<text text-anchor=\"middle\" x=\"646.5\" y=\"-245.8\" font-family=\"Helvetica,sans-Serif\" font-size=\"14.00\">560 angle(Y,gravityMean) &lt;= 0.14</text>\r\n",
       "<text text-anchor=\"middle\" x=\"646.5\" y=\"-230.8\" font-family=\"Helvetica,sans-Serif\" font-size=\"14.00\">gini = 0.499</text>\r\n",
       "<text text-anchor=\"middle\" x=\"646.5\" y=\"-215.8\" font-family=\"Helvetica,sans-Serif\" font-size=\"14.00\">samples = 2000</text>\r\n",
       "<text text-anchor=\"middle\" x=\"646.5\" y=\"-200.8\" font-family=\"Helvetica,sans-Serif\" font-size=\"14.00\">value = [0, 0, 0, 968, 1032, 0]</text>\r\n",
       "</g>\r\n",
       "<!-- 2&#45;&gt;3 -->\r\n",
       "<g id=\"edge3\" class=\"edge\"><title>2&#45;&gt;3</title>\r\n",
       "<path fill=\"none\" stroke=\"black\" d=\"M750.501,-296.884C736.037,-287.304 720.119,-276.761 705.178,-266.864\"/>\r\n",
       "<polygon fill=\"black\" stroke=\"black\" points=\"706.782,-263.729 696.512,-261.125 702.916,-269.565 706.782,-263.729\"/>\r\n",
       "</g>\r\n",
       "<!-- 10 -->\r\n",
       "<g id=\"node11\" class=\"node\"><title>10</title>\r\n",
       "<polygon fill=\"#fdf6f1\" stroke=\"black\" points=\"1082,-261 825,-261 825,-193 1082,-193 1082,-261\"/>\r\n",
       "<text text-anchor=\"middle\" x=\"953.5\" y=\"-245.8\" font-family=\"Helvetica,sans-Serif\" font-size=\"14.00\">509 fBodyAccMag&#45;energy() &lt;= &#45;0.525</text>\r\n",
       "<text text-anchor=\"middle\" x=\"953.5\" y=\"-230.8\" font-family=\"Helvetica,sans-Serif\" font-size=\"14.00\">gini = 0.663</text>\r\n",
       "<text text-anchor=\"middle\" x=\"953.5\" y=\"-215.8\" font-family=\"Helvetica,sans-Serif\" font-size=\"14.00\">samples = 2460</text>\r\n",
       "<text text-anchor=\"middle\" x=\"953.5\" y=\"-200.8\" font-family=\"Helvetica,sans-Serif\" font-size=\"14.00\">value = [928, 807, 725, 0, 0, 0]</text>\r\n",
       "</g>\r\n",
       "<!-- 2&#45;&gt;10 -->\r\n",
       "<g id=\"edge10\" class=\"edge\"><title>2&#45;&gt;10</title>\r\n",
       "<path fill=\"none\" stroke=\"black\" d=\"M850.175,-296.884C864.544,-287.304 880.359,-276.761 895.203,-266.864\"/>\r\n",
       "<polygon fill=\"black\" stroke=\"black\" points=\"897.434,-269.584 903.813,-261.125 893.551,-263.76 897.434,-269.584\"/>\r\n",
       "</g>\r\n",
       "<!-- 4 -->\r\n",
       "<g id=\"node5\" class=\"node\"><title>4</title>\r\n",
       "<polygon fill=\"#59ade9\" stroke=\"black\" points=\"422,-157 177,-157 177,-89 422,-89 422,-157\"/>\r\n",
       "<text text-anchor=\"middle\" x=\"299.5\" y=\"-141.8\" font-family=\"Helvetica,sans-Serif\" font-size=\"14.00\">58 tGravityAcc&#45;energy()&#45;Y &lt;= &#45;0.983</text>\r\n",
       "<text text-anchor=\"middle\" x=\"299.5\" y=\"-126.8\" font-family=\"Helvetica,sans-Serif\" font-size=\"14.00\">gini = 0.237</text>\r\n",
       "<text text-anchor=\"middle\" x=\"299.5\" y=\"-111.8\" font-family=\"Helvetica,sans-Serif\" font-size=\"14.00\">samples = 1040</text>\r\n",
       "<text text-anchor=\"middle\" x=\"299.5\" y=\"-96.8\" font-family=\"Helvetica,sans-Serif\" font-size=\"14.00\">value = [0, 0, 0, 897, 143, 0]</text>\r\n",
       "</g>\r\n",
       "<!-- 3&#45;&gt;4 -->\r\n",
       "<g id=\"edge4\" class=\"edge\"><title>3&#45;&gt;4</title>\r\n",
       "<path fill=\"none\" stroke=\"black\" d=\"M533.839,-192.884C497.961,-182.337 458.109,-170.623 421.596,-159.89\"/>\r\n",
       "<polygon fill=\"black\" stroke=\"black\" points=\"422.473,-156.5 411.892,-157.038 420.499,-163.216 422.473,-156.5\"/>\r\n",
       "</g>\r\n",
       "<!-- 7 -->\r\n",
       "<g id=\"node8\" class=\"node\"><title>7</title>\r\n",
       "<polygon fill=\"#8b49e7\" stroke=\"black\" points=\"759.5,-157 533.5,-157 533.5,-89 759.5,-89 759.5,-157\"/>\r\n",
       "<text text-anchor=\"middle\" x=\"646.5\" y=\"-141.8\" font-family=\"Helvetica,sans-Serif\" font-size=\"14.00\">427 fBodyGyro&#45;std()&#45;X &lt;= &#45;0.997</text>\r\n",
       "<text text-anchor=\"middle\" x=\"646.5\" y=\"-126.8\" font-family=\"Helvetica,sans-Serif\" font-size=\"14.00\">gini = 0.137</text>\r\n",
       "<text text-anchor=\"middle\" x=\"646.5\" y=\"-111.8\" font-family=\"Helvetica,sans-Serif\" font-size=\"14.00\">samples = 960</text>\r\n",
       "<text text-anchor=\"middle\" x=\"646.5\" y=\"-96.8\" font-family=\"Helvetica,sans-Serif\" font-size=\"14.00\">value = [0, 0, 0, 71, 889, 0]</text>\r\n",
       "</g>\r\n",
       "<!-- 3&#45;&gt;7 -->\r\n",
       "<g id=\"edge7\" class=\"edge\"><title>3&#45;&gt;7</title>\r\n",
       "<path fill=\"none\" stroke=\"black\" d=\"M646.5,-192.884C646.5,-184.778 646.5,-175.982 646.5,-167.472\"/>\r\n",
       "<polygon fill=\"black\" stroke=\"black\" points=\"650,-167.299 646.5,-157.299 643,-167.299 650,-167.299\"/>\r\n",
       "</g>\r\n",
       "<!-- 5 -->\r\n",
       "<g id=\"node6\" class=\"node\"><title>5</title>\r\n",
       "<polygon fill=\"#8ac5f0\" stroke=\"black\" points=\"193,-53 0,-53 0,-0 193,-0 193,-53\"/>\r\n",
       "<text text-anchor=\"middle\" x=\"96.5\" y=\"-37.8\" font-family=\"Helvetica,sans-Serif\" font-size=\"14.00\">gini = 0.411</text>\r\n",
       "<text text-anchor=\"middle\" x=\"96.5\" y=\"-22.8\" font-family=\"Helvetica,sans-Serif\" font-size=\"14.00\">samples = 484</text>\r\n",
       "<text text-anchor=\"middle\" x=\"96.5\" y=\"-7.8\" font-family=\"Helvetica,sans-Serif\" font-size=\"14.00\">value = [0, 0, 0, 344, 140, 0]</text>\r\n",
       "</g>\r\n",
       "<!-- 4&#45;&gt;5 -->\r\n",
       "<g id=\"edge5\" class=\"edge\"><title>4&#45;&gt;5</title>\r\n",
       "<path fill=\"none\" stroke=\"black\" d=\"M228.5,-88.9485C206.391,-78.6562 182.153,-67.3729 160.548,-57.3155\"/>\r\n",
       "<polygon fill=\"black\" stroke=\"black\" points=\"162.007,-54.134 151.464,-53.0867 159.053,-60.4801 162.007,-54.134\"/>\r\n",
       "</g>\r\n",
       "<!-- 6 -->\r\n",
       "<g id=\"node7\" class=\"node\"><title>6</title>\r\n",
       "<polygon fill=\"#3a9ee5\" stroke=\"black\" points=\"387.5,-53 211.5,-53 211.5,-0 387.5,-0 387.5,-53\"/>\r\n",
       "<text text-anchor=\"middle\" x=\"299.5\" y=\"-37.8\" font-family=\"Helvetica,sans-Serif\" font-size=\"14.00\">gini = 0.011</text>\r\n",
       "<text text-anchor=\"middle\" x=\"299.5\" y=\"-22.8\" font-family=\"Helvetica,sans-Serif\" font-size=\"14.00\">samples = 556</text>\r\n",
       "<text text-anchor=\"middle\" x=\"299.5\" y=\"-7.8\" font-family=\"Helvetica,sans-Serif\" font-size=\"14.00\">value = [0, 0, 0, 553, 3, 0]</text>\r\n",
       "</g>\r\n",
       "<!-- 4&#45;&gt;6 -->\r\n",
       "<g id=\"edge6\" class=\"edge\"><title>4&#45;&gt;6</title>\r\n",
       "<path fill=\"none\" stroke=\"black\" d=\"M299.5,-88.9485C299.5,-80.7153 299.5,-71.848 299.5,-63.4814\"/>\r\n",
       "<polygon fill=\"black\" stroke=\"black\" points=\"303,-63.2367 299.5,-53.2367 296,-63.2367 303,-63.2367\"/>\r\n",
       "</g>\r\n",
       "<!-- 8 -->\r\n",
       "<g id=\"node9\" class=\"node\"><title>8</title>\r\n",
       "<polygon fill=\"#e0f0fb\" stroke=\"black\" points=\"581.5,-53 405.5,-53 405.5,-0 581.5,-0 581.5,-53\"/>\r\n",
       "<text text-anchor=\"middle\" x=\"493.5\" y=\"-37.8\" font-family=\"Helvetica,sans-Serif\" font-size=\"14.00\">gini = 0.496</text>\r\n",
       "<text text-anchor=\"middle\" x=\"493.5\" y=\"-22.8\" font-family=\"Helvetica,sans-Serif\" font-size=\"14.00\">samples = 35</text>\r\n",
       "<text text-anchor=\"middle\" x=\"493.5\" y=\"-7.8\" font-family=\"Helvetica,sans-Serif\" font-size=\"14.00\">value = [0, 0, 0, 19, 16, 0]</text>\r\n",
       "</g>\r\n",
       "<!-- 7&#45;&gt;8 -->\r\n",
       "<g id=\"edge8\" class=\"edge\"><title>7&#45;&gt;8</title>\r\n",
       "<path fill=\"none\" stroke=\"black\" d=\"M592.988,-88.9485C576.992,-79.0686 559.518,-68.2758 543.74,-58.5305\"/>\r\n",
       "<polygon fill=\"black\" stroke=\"black\" points=\"545.516,-55.5139 535.169,-53.2367 541.838,-61.4695 545.516,-55.5139\"/>\r\n",
       "</g>\r\n",
       "<!-- 9 -->\r\n",
       "<g id=\"node10\" class=\"node\"><title>9</title>\r\n",
       "<polygon fill=\"#8945e7\" stroke=\"black\" points=\"785,-53 600,-53 600,-0 785,-0 785,-53\"/>\r\n",
       "<text text-anchor=\"middle\" x=\"692.5\" y=\"-37.8\" font-family=\"Helvetica,sans-Serif\" font-size=\"14.00\">gini = 0.106</text>\r\n",
       "<text text-anchor=\"middle\" x=\"692.5\" y=\"-22.8\" font-family=\"Helvetica,sans-Serif\" font-size=\"14.00\">samples = 925</text>\r\n",
       "<text text-anchor=\"middle\" x=\"692.5\" y=\"-7.8\" font-family=\"Helvetica,sans-Serif\" font-size=\"14.00\">value = [0, 0, 0, 52, 873, 0]</text>\r\n",
       "</g>\r\n",
       "<!-- 7&#45;&gt;9 -->\r\n",
       "<g id=\"edge9\" class=\"edge\"><title>7&#45;&gt;9</title>\r\n",
       "<path fill=\"none\" stroke=\"black\" d=\"M662.589,-88.9485C666.774,-80.3494 671.297,-71.0586 675.527,-62.3689\"/>\r\n",
       "<polygon fill=\"black\" stroke=\"black\" points=\"678.742,-63.7599 679.972,-53.2367 672.448,-60.6962 678.742,-63.7599\"/>\r\n",
       "</g>\r\n",
       "<!-- 11 -->\r\n",
       "<g id=\"node12\" class=\"node\"><title>11</title>\r\n",
       "<polygon fill=\"#fbeade\" stroke=\"black\" points=\"1082,-157 825,-157 825,-89 1082,-89 1082,-157\"/>\r\n",
       "<text text-anchor=\"middle\" x=\"953.5\" y=\"-141.8\" font-family=\"Helvetica,sans-Serif\" font-size=\"14.00\">75 tGravityAcc&#45;arCoeff()&#45;Z,2 &lt;= 0.564</text>\r\n",
       "<text text-anchor=\"middle\" x=\"953.5\" y=\"-126.8\" font-family=\"Helvetica,sans-Serif\" font-size=\"14.00\">gini = 0.557</text>\r\n",
       "<text text-anchor=\"middle\" x=\"953.5\" y=\"-111.8\" font-family=\"Helvetica,sans-Serif\" font-size=\"14.00\">samples = 1778</text>\r\n",
       "<text text-anchor=\"middle\" x=\"953.5\" y=\"-96.8\" font-family=\"Helvetica,sans-Serif\" font-size=\"14.00\">value = [914, 741, 123, 0, 0, 0]</text>\r\n",
       "</g>\r\n",
       "<!-- 10&#45;&gt;11 -->\r\n",
       "<g id=\"edge11\" class=\"edge\"><title>10&#45;&gt;11</title>\r\n",
       "<path fill=\"none\" stroke=\"black\" d=\"M953.5,-192.884C953.5,-184.778 953.5,-175.982 953.5,-167.472\"/>\r\n",
       "<polygon fill=\"black\" stroke=\"black\" points=\"957,-167.299 953.5,-157.299 950,-167.299 957,-167.299\"/>\r\n",
       "</g>\r\n",
       "<!-- 14 -->\r\n",
       "<g id=\"node15\" class=\"node\"><title>14</title>\r\n",
       "<polygon fill=\"#53e891\" stroke=\"black\" points=\"1477,-157 1198,-157 1198,-89 1477,-89 1477,-157\"/>\r\n",
       "<text text-anchor=\"middle\" x=\"1337.5\" y=\"-141.8\" font-family=\"Helvetica,sans-Serif\" font-size=\"14.00\">160 tBodyGyro&#45;correlation()&#45;Y,Z &lt;= 0.273</text>\r\n",
       "<text text-anchor=\"middle\" x=\"1337.5\" y=\"-126.8\" font-family=\"Helvetica,sans-Serif\" font-size=\"14.00\">gini = 0.211</text>\r\n",
       "<text text-anchor=\"middle\" x=\"1337.5\" y=\"-111.8\" font-family=\"Helvetica,sans-Serif\" font-size=\"14.00\">samples = 682</text>\r\n",
       "<text text-anchor=\"middle\" x=\"1337.5\" y=\"-96.8\" font-family=\"Helvetica,sans-Serif\" font-size=\"14.00\">value = [14, 66, 602, 0, 0, 0]</text>\r\n",
       "</g>\r\n",
       "<!-- 10&#45;&gt;14 -->\r\n",
       "<g id=\"edge14\" class=\"edge\"><title>10&#45;&gt;14</title>\r\n",
       "<path fill=\"none\" stroke=\"black\" d=\"M1077.91,-192.954C1117.96,-182.315 1162.51,-170.481 1203.24,-159.662\"/>\r\n",
       "<polygon fill=\"black\" stroke=\"black\" points=\"1204.19,-163.031 1212.96,-157.081 1202.4,-156.265 1204.19,-163.031\"/>\r\n",
       "</g>\r\n",
       "<!-- 12 -->\r\n",
       "<g id=\"node13\" class=\"node\"><title>12</title>\r\n",
       "<polygon fill=\"#eb9d65\" stroke=\"black\" points=\"1012,-53 803,-53 803,-0 1012,-0 1012,-53\"/>\r\n",
       "<text text-anchor=\"middle\" x=\"907.5\" y=\"-37.8\" font-family=\"Helvetica,sans-Serif\" font-size=\"14.00\">gini = 0.339</text>\r\n",
       "<text text-anchor=\"middle\" x=\"907.5\" y=\"-22.8\" font-family=\"Helvetica,sans-Serif\" font-size=\"14.00\">samples = 1024</text>\r\n",
       "<text text-anchor=\"middle\" x=\"907.5\" y=\"-7.8\" font-family=\"Helvetica,sans-Serif\" font-size=\"14.00\">value = [820, 104, 100, 0, 0, 0]</text>\r\n",
       "</g>\r\n",
       "<!-- 11&#45;&gt;12 -->\r\n",
       "<g id=\"edge12\" class=\"edge\"><title>11&#45;&gt;12</title>\r\n",
       "<path fill=\"none\" stroke=\"black\" d=\"M937.411,-88.9485C933.226,-80.3494 928.703,-71.0586 924.473,-62.3689\"/>\r\n",
       "<polygon fill=\"black\" stroke=\"black\" points=\"927.552,-60.6962 920.028,-53.2367 921.258,-63.7599 927.552,-60.6962\"/>\r\n",
       "</g>\r\n",
       "<!-- 13 -->\r\n",
       "<g id=\"node14\" class=\"node\"><title>13</title>\r\n",
       "<polygon fill=\"#aeea5c\" stroke=\"black\" points=\"1223,-53 1030,-53 1030,-0 1223,-0 1223,-53\"/>\r\n",
       "<text text-anchor=\"middle\" x=\"1126.5\" y=\"-37.8\" font-family=\"Helvetica,sans-Serif\" font-size=\"14.00\">gini = 0.27</text>\r\n",
       "<text text-anchor=\"middle\" x=\"1126.5\" y=\"-22.8\" font-family=\"Helvetica,sans-Serif\" font-size=\"14.00\">samples = 754</text>\r\n",
       "<text text-anchor=\"middle\" x=\"1126.5\" y=\"-7.8\" font-family=\"Helvetica,sans-Serif\" font-size=\"14.00\">value = [94, 637, 23, 0, 0, 0]</text>\r\n",
       "</g>\r\n",
       "<!-- 11&#45;&gt;13 -->\r\n",
       "<g id=\"edge13\" class=\"edge\"><title>11&#45;&gt;13</title>\r\n",
       "<path fill=\"none\" stroke=\"black\" d=\"M1014.01,-88.9485C1032.34,-78.9318 1052.4,-67.9767 1070.43,-58.1263\"/>\r\n",
       "<polygon fill=\"black\" stroke=\"black\" points=\"1072.56,-60.9522 1079.66,-53.0867 1069.2,-54.809 1072.56,-60.9522\"/>\r\n",
       "</g>\r\n",
       "<!-- 15 -->\r\n",
       "<g id=\"node16\" class=\"node\"><title>15</title>\r\n",
       "<polygon fill=\"#45e789\" stroke=\"black\" points=\"1434,-53 1241,-53 1241,-0 1434,-0 1434,-53\"/>\r\n",
       "<text text-anchor=\"middle\" x=\"1337.5\" y=\"-37.8\" font-family=\"Helvetica,sans-Serif\" font-size=\"14.00\">gini = 0.111</text>\r\n",
       "<text text-anchor=\"middle\" x=\"1337.5\" y=\"-22.8\" font-family=\"Helvetica,sans-Serif\" font-size=\"14.00\">samples = 636</text>\r\n",
       "<text text-anchor=\"middle\" x=\"1337.5\" y=\"-7.8\" font-family=\"Helvetica,sans-Serif\" font-size=\"14.00\">value = [12, 25, 599, 0, 0, 0]</text>\r\n",
       "</g>\r\n",
       "<!-- 14&#45;&gt;15 -->\r\n",
       "<g id=\"edge15\" class=\"edge\"><title>14&#45;&gt;15</title>\r\n",
       "<path fill=\"none\" stroke=\"black\" d=\"M1337.5,-88.9485C1337.5,-80.7153 1337.5,-71.848 1337.5,-63.4814\"/>\r\n",
       "<polygon fill=\"black\" stroke=\"black\" points=\"1341,-63.2367 1337.5,-53.2367 1334,-63.2367 1341,-63.2367\"/>\r\n",
       "</g>\r\n",
       "<!-- 16 -->\r\n",
       "<g id=\"node17\" class=\"node\"><title>16</title>\r\n",
       "<polygon fill=\"#a8e850\" stroke=\"black\" points=\"1620.5,-53 1452.5,-53 1452.5,-0 1620.5,-0 1620.5,-53\"/>\r\n",
       "<text text-anchor=\"middle\" x=\"1536.5\" y=\"-37.8\" font-family=\"Helvetica,sans-Serif\" font-size=\"14.00\">gini = 0.199</text>\r\n",
       "<text text-anchor=\"middle\" x=\"1536.5\" y=\"-22.8\" font-family=\"Helvetica,sans-Serif\" font-size=\"14.00\">samples = 46</text>\r\n",
       "<text text-anchor=\"middle\" x=\"1536.5\" y=\"-7.8\" font-family=\"Helvetica,sans-Serif\" font-size=\"14.00\">value = [2, 41, 3, 0, 0, 0]</text>\r\n",
       "</g>\r\n",
       "<!-- 14&#45;&gt;16 -->\r\n",
       "<g id=\"edge16\" class=\"edge\"><title>14&#45;&gt;16</title>\r\n",
       "<path fill=\"none\" stroke=\"black\" d=\"M1407.1,-88.9485C1428.68,-78.7021 1452.32,-67.4737 1473.43,-57.4503\"/>\r\n",
       "<polygon fill=\"black\" stroke=\"black\" points=\"1475.09,-60.538 1482.62,-53.0867 1472.08,-54.2148 1475.09,-60.538\"/>\r\n",
       "</g>\r\n",
       "</g>\r\n",
       "</svg>\r\n"
      ],
      "text/plain": [
       "<graphviz.files.Source at 0x19a053d5c70>"
      ]
     },
     "execution_count": 15,
     "metadata": {},
     "output_type": "execute_result"
    }
   ],
   "source": [
    "clf = DecisionTreeClassifier(random_state=100, max_depth = 4).fit(X_train, y_train)\n",
    "\n",
    "dot_data = export_graphviz(clf, out_file=None, \n",
    "                                feature_names=X_train.columns,  \n",
    "                                filled=True)\n",
    "\n",
    "graph = graphviz.Source(dot_data, format=\"png\") \n",
    "graph"
   ]
  },
  {
   "cell_type": "code",
   "execution_count": 30,
   "metadata": {},
   "outputs": [
    {
     "data": {
      "text/plain": [
       "53 tGravityAcc-min()-X                0.282630\n",
       "382 fBodyAccJerk-bandsEnergy()-1,8    0.254515\n",
       "560 angle(Y,gravityMean)              0.171064\n",
       "dtype: float64"
      ]
     },
     "execution_count": 30,
     "metadata": {},
     "output_type": "execute_result"
    }
   ],
   "source": [
    "importancia = pd.Series(clf.feature_importances_, index = X_train.columns)\n",
    "importancia.sort_values(ascending = False, inplace = True)\n",
    "importancia.head(3)"
   ]
  },
  {
   "cell_type": "markdown",
   "metadata": {},
   "source": [
    "### 4. Construa uma árvore com as 3 melhores variáveis\n",
    "\n",
    "Utilizando as três variáveis encontradas acima, construa uma árvore de decisão. Encontre o melhor ```ccp_alpha``` utilizando a base de validação, conforme a estrutura que vimos em aula."
   ]
  },
  {
   "cell_type": "code",
   "execution_count": 31,
   "metadata": {},
   "outputs": [],
   "source": [
    "X_train_cut = X_train[['53 tGravityAcc-min()-X','382 fBodyAccJerk-bandsEnergy()-1,8','560 angle(Y,gravityMean)']]\n",
    "X_valid_cut = X_valid[['53 tGravityAcc-min()-X','382 fBodyAccJerk-bandsEnergy()-1,8','560 angle(Y,gravityMean)']]\n",
    "X_test_cut = X_test[['53 tGravityAcc-min()-X','382 fBodyAccJerk-bandsEnergy()-1,8','560 angle(Y,gravityMean)']]"
   ]
  },
  {
   "cell_type": "code",
   "execution_count": 32,
   "metadata": {},
   "outputs": [],
   "source": [
    "clf = DecisionTreeClassifier(random_state=100, min_samples_leaf = 20).fit(X_train, y_train)"
   ]
  },
  {
   "cell_type": "code",
   "execution_count": 33,
   "metadata": {},
   "outputs": [
    {
     "data": {
      "text/plain": [
       "array([0.00000000e+00, 1.21895384e-05, 1.75553137e-05, 6.98756107e-05,\n",
       "       8.53267688e-05, 1.08075874e-04, 1.32841758e-04, 1.50147949e-04,\n",
       "       1.57349637e-04, 1.80068653e-04, 1.82567110e-04, 1.94761161e-04,\n",
       "       2.04427670e-04, 2.96904683e-04, 3.63560193e-04, 3.77875690e-04,\n",
       "       4.26779020e-04, 4.91090576e-04, 6.99769687e-04, 1.13063329e-03,\n",
       "       1.16283359e-03, 1.36881926e-03, 1.38579490e-03, 1.54122765e-03,\n",
       "       1.65162690e-03, 1.78003485e-03, 1.95468283e-03, 2.02148698e-03,\n",
       "       2.41239551e-03, 2.57489023e-03, 2.69265088e-03, 2.89680352e-03,\n",
       "       3.10397946e-03, 3.15799543e-03, 3.23748256e-03, 4.00127048e-03,\n",
       "       5.63410535e-03, 6.92561886e-03, 8.03924955e-03, 8.55546742e-03,\n",
       "       1.16302269e-02, 1.20271418e-02, 1.94957720e-02, 7.98629614e-02,\n",
       "       9.00906360e-02, 1.12586704e-01, 1.67509884e-01, 1.86014110e-01])"
      ]
     },
     "execution_count": 33,
     "metadata": {},
     "output_type": "execute_result"
    }
   ],
   "source": [
    "path = DecisionTreeClassifier(random_state=100, min_samples_leaf = 20).cost_complexity_pruning_path(X_train, y_train)\n",
    "ccp_alphas, impurities = path.ccp_alphas, path.impurities\n",
    "ccp_alphas"
   ]
  },
  {
   "cell_type": "code",
   "execution_count": 34,
   "metadata": {},
   "outputs": [
    {
     "data": {
      "text/plain": [
       "array([0.00000000e+00, 6.98756107e-05, 1.32841758e-04, 1.80068653e-04,\n",
       "       2.04427670e-04, 3.77875690e-04, 6.99769687e-04, 1.36881926e-03,\n",
       "       1.65162690e-03, 2.02148698e-03, 2.69265088e-03, 3.15799543e-03,\n",
       "       5.63410535e-03, 8.55546742e-03, 1.94957720e-02, 1.12586704e-01])"
      ]
     },
     "execution_count": 34,
     "metadata": {},
     "output_type": "execute_result"
    }
   ],
   "source": [
    "ccp_alphas = ccp_alphas[::3]\n",
    "ccp_alphas"
   ]
  },
  {
   "cell_type": "code",
   "execution_count": 35,
   "metadata": {},
   "outputs": [
    {
     "name": "stdout",
     "output_type": "stream",
     "text": [
      "Wall time: 38.8 s\n"
     ]
    }
   ],
   "source": [
    "%%time\n",
    "\n",
    "clfs = []\n",
    "for ccp_alpha in ccp_alphas:\n",
    "    clf = DecisionTreeClassifier(random_state=100, ccp_alpha=ccp_alpha).fit(X_train, y_train)\n",
    "    clfs.append(clf)"
   ]
  },
  {
   "cell_type": "code",
   "execution_count": 36,
   "metadata": {},
   "outputs": [],
   "source": [
    "train_scores = [clf.score(X_train, y_train) for clf in clfs]\n",
    "valid_scores = [clf.score(X_valid, y_valid) for clf in clfs]"
   ]
  },
  {
   "cell_type": "code",
   "execution_count": 37,
   "metadata": {},
   "outputs": [
    {
     "data": {
      "image/png": "[encoded data removed]",
      "text/plain": [
       "<Figure size 432x288 with 1 Axes>"
      ]
     },
     "metadata": {
      "needs_background": "light"
     },
     "output_type": "display_data"
    }
   ],
   "source": [
    "fig, ax = plt.subplots()\n",
    "ax.set_xlabel(\"alpha\")\n",
    "ax.set_ylabel(\"Acurácia\")\n",
    "ax.set_title(\"Acurácia x alpha do conjunto de dados de treino e validação\")\n",
    "ax.plot(ccp_alphas, train_scores, marker='o', label=\"treino\",\n",
    "        drawstyle=\"steps-post\")\n",
    "ax.plot(ccp_alphas, valid_scores, marker='o', label=\"validação\",\n",
    "        drawstyle=\"steps-post\")\n",
    "ax.legend()\n",
    "plt.show()"
   ]
  },
  {
   "cell_type": "code",
   "execution_count": 39,
   "metadata": {},
   "outputs": [
    {
     "data": {
      "text/plain": [
       "DecisionTreeClassifier(ccp_alpha=0.0003778756904927556, random_state=100)"
      ]
     },
     "execution_count": 39,
     "metadata": {},
     "output_type": "execute_result"
    }
   ],
   "source": [
    "ind_melhor_arvore = len(valid_scores) - valid_scores[::-1].index(max(valid_scores)) - 1\n",
    "melhor_arvore = clfs[ind_melhor_arvore]\n",
    "melhor_arvore"
   ]
  },
  {
   "cell_type": "code",
   "execution_count": 48,
   "metadata": {},
   "outputs": [
    {
     "data": {
      "image/png": "[encoded data removed]",
      "text/plain": [
       "<Figure size 432x288 with 2 Axes>"
      ]
     },
     "metadata": {
      "needs_background": "light"
     },
     "output_type": "display_data"
    }
   ],
   "source": [
    "plot_confusion_matrix(melhor_arvore, X_valid, y_valid);"
   ]
  },
  {
   "cell_type": "code",
   "execution_count": 46,
   "metadata": {},
   "outputs": [
    {
     "name": "stdout",
     "output_type": "stream",
     "text": [
      "Acurácia: 94.12\n"
     ]
    }
   ],
   "source": [
    "acuracia_valid = melhor_arvore.score(X_valid, y_valid)\n",
    "\n",
    "print(f'Acurácia: {acuracia_valid*100:.2f}')"
   ]
  },
  {
   "cell_type": "markdown",
   "metadata": {},
   "source": [
    "### 5. Avaliação do modelo\n",
    "\n",
    "Avalie a árvore encontrada no item anterior na base de testes."
   ]
  },
  {
   "cell_type": "code",
   "execution_count": 49,
   "metadata": {},
   "outputs": [
    {
     "name": "stdout",
     "output_type": "stream",
     "text": [
      "Acurácia: 87.00\n"
     ]
    },
    {
     "data": {
      "image/png": "[encoded data removed]",
      "text/plain": [
       "<Figure size 432x288 with 2 Axes>"
      ]
     },
     "metadata": {
      "needs_background": "light"
     },
     "output_type": "display_data"
    }
   ],
   "source": [
    "acuracia_teste = melhor_arvore.score(X_test, y_test)\n",
    "\n",
    "print(f'Acurácia: {acuracia_teste*100:.2f}')\n",
    "plot_confusion_matrix(melhor_arvore, X_test, y_test);"
   ]
  }
 ],
 "metadata": {
  "kernelspec": {
   "display_name": "Python 3 (ipykernel)",
   "language": "python",
   "name": "python3"
  },
  "language_info": {
   "codemirror_mode": {
    "name": "ipython",
    "version": 3
   },
   "file_extension": ".py",
   "mimetype": "text/x-python",
   "name": "python",
   "nbconvert_exporter": "python",
   "pygments_lexer": "ipython3",
   "version": "3.9.7"
  }
 },
 "nbformat": 4,
 "nbformat_minor": 4
}
